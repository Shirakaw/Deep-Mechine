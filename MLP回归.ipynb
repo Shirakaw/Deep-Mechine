{
 "cells": [
  {
   "cell_type": "code",
   "execution_count": 1,
   "id": "46c891ad",
   "metadata": {},
   "outputs": [],
   "source": [
    "import numpy as np\n",
    "import pandas as pd\n",
    "import matplotlib.pyplot as plt\n",
    "import seaborn as sns\n",
    "from matplotlib.font_manager import FontProperties\n",
    "fonts = FontProperties(fname = \"/Library/Fonts/华文细黑.ttf\",size=14)\n",
    "\n",
    "from sklearn import metrics\n",
    "from sklearn.model_selection import train_test_split\n",
    "## 忽略提醒\n",
    "import warnings\n",
    "warnings.filterwarnings(\"ignore\")\n",
    "import statsmodels.api as sm\n",
    "import statsmodels.formula.api as smf\n",
    "from sklearn.neural_network import MLPRegressor\n",
    "from sklearn.preprocessing import StandardScaler\n",
    "train_data = pd.read_csv('new1.csv')\n",
    "X = train_data.drop(['carid', 'price'], axis=1)\n",
    "y = train_data['carid'] "
   ]
  },
  {
   "cell_type": "code",
   "execution_count": null,
   "id": "c2bba851",
   "metadata": {},
   "outputs": [],
   "source": [
    "## 得到每个特征的直方图\n",
    "plt.figure(figsize=(15,6))\n",
    "for ii,name in enumerate(train_data.columns):\n",
    "    plt.subplot(2,5,ii+1)\n",
    "    plt.hist(train_data.iloc[:,ii],25,color=\"green\",alpha = 0.5)\n",
    "    plt.title(name)\n",
    "\n",
    "plt.subplots_adjust()\n",
    "plt.show()"
   ]
  },
  {
   "cell_type": "code",
   "execution_count": null,
   "id": "b0ddd9a4",
   "metadata": {},
   "outputs": [],
   "source": [
    "#多元线性回归分析\n",
    "train_x,test_x,train_y,test_y = train_test_split(X,y.values,test_size = 0.25,random_state = 2)\n",
    "train_xadd = sm.add_constant(train_x)  ## 添加常数项\n",
    "lm = sm.OLS(train_y,train_xadd).fit()\n",
    "lm.summary()"
   ]
  },
  {
   "cell_type": "code",
   "execution_count": null,
   "id": "2036b2f0",
   "metadata": {},
   "outputs": [],
   "source": [
    "#检查模型再测试集上的预测效果\n",
    "test_xadd = sm.add_constant(test_x)  ## 添加常数项\n",
    "pre_y = lm.predict(test_xadd)\n",
    "print(\"mean absolute error:\", metrics.mean_absolute_error(test_y,pre_y))\n",
    "print(\"mean squared error:\", metrics.mean_squared_error(test_y,pre_y))"
   ]
  },
  {
   "cell_type": "code",
   "execution_count": null,
   "id": "201906e0",
   "metadata": {},
   "outputs": [],
   "source": [
    "## 定义含有4个隐藏层的MLP网络\n",
    "mlpr = MLPRegressor(hidden_layer_sizes=(1000,1000,300,100), ## 隐藏层的神经元个数\n",
    "                    activation='tanh', \n",
    "                    solver='adam', \n",
    "                    alpha=0.0001,   ## L2惩罚参数\n",
    "                    max_iter=100, \n",
    "                    random_state=123,\n",
    "#                     early_stopping=True, ## 是否提前停止训练\n",
    "#                     validation_fraction=0.2, ## 20%作为验证集\n",
    "#                     tol=1e-8,\n",
    "                   )\n",
    "\n",
    "## 拟合训练数据集\n",
    "mlpr.fit(train_x,train_y)\n",
    "\n",
    "## 可视化损失函数\n",
    "plt.figure()\n",
    "plt.plot(mlpr.loss_curve_)\n",
    "plt.xlabel(\"iters\")\n",
    "plt.ylabel(mlpr.loss)\n",
    "plt.show()"
   ]
  },
  {
   "cell_type": "code",
   "execution_count": 2,
   "id": "6701c898",
   "metadata": {},
   "outputs": [
    {
     "ename": "NameError",
     "evalue": "name 'mlpr' is not defined",
     "output_type": "error",
     "traceback": [
      "\u001b[1;31m---------------------------------------------------------------------------\u001b[0m",
      "\u001b[1;31mNameError\u001b[0m                                 Traceback (most recent call last)",
      "\u001b[1;32m~\\AppData\\Local\\Temp/ipykernel_27400/2782424972.py\u001b[0m in \u001b[0;36m<module>\u001b[1;34m\u001b[0m\n\u001b[0;32m      1\u001b[0m \u001b[1;31m## 对测试集上进行预测\u001b[0m\u001b[1;33m\u001b[0m\u001b[1;33m\u001b[0m\u001b[1;33m\u001b[0m\u001b[0m\n\u001b[1;32m----> 2\u001b[1;33m \u001b[0mpre_y\u001b[0m \u001b[1;33m=\u001b[0m \u001b[0mmlpr\u001b[0m\u001b[1;33m.\u001b[0m\u001b[0mpredict\u001b[0m\u001b[1;33m(\u001b[0m\u001b[0mtest_x\u001b[0m\u001b[1;33m)\u001b[0m\u001b[1;33m\u001b[0m\u001b[1;33m\u001b[0m\u001b[0m\n\u001b[0m\u001b[0;32m      3\u001b[0m \u001b[0mprint\u001b[0m\u001b[1;33m(\u001b[0m\u001b[1;34m\"mean absolute error:\"\u001b[0m\u001b[1;33m,\u001b[0m \u001b[0mmetrics\u001b[0m\u001b[1;33m.\u001b[0m\u001b[0mmean_absolute_error\u001b[0m\u001b[1;33m(\u001b[0m\u001b[0mtest_y\u001b[0m\u001b[1;33m,\u001b[0m\u001b[0mpre_y\u001b[0m\u001b[1;33m)\u001b[0m\u001b[1;33m)\u001b[0m\u001b[1;33m\u001b[0m\u001b[1;33m\u001b[0m\u001b[0m\n\u001b[0;32m      4\u001b[0m \u001b[0mprint\u001b[0m\u001b[1;33m(\u001b[0m\u001b[1;34m\"mean squared error:\"\u001b[0m\u001b[1;33m,\u001b[0m \u001b[0mmetrics\u001b[0m\u001b[1;33m.\u001b[0m\u001b[0mmean_squared_error\u001b[0m\u001b[1;33m(\u001b[0m\u001b[0mtest_y\u001b[0m\u001b[1;33m,\u001b[0m\u001b[0mpre_y\u001b[0m\u001b[1;33m)\u001b[0m\u001b[1;33m)\u001b[0m\u001b[1;33m\u001b[0m\u001b[1;33m\u001b[0m\u001b[0m\n\u001b[0;32m      5\u001b[0m \u001b[1;31m## 输出在测试集上的R^2\u001b[0m\u001b[1;33m\u001b[0m\u001b[1;33m\u001b[0m\u001b[1;33m\u001b[0m\u001b[0m\n",
      "\u001b[1;31mNameError\u001b[0m: name 'mlpr' is not defined"
     ]
    }
   ],
   "source": [
    "## 对测试集上进行预测\n",
    "pre_y = mlpr.predict(test_x)\n",
    "print(\"mean absolute error:\", metrics.mean_absolute_error(test_y,pre_y))\n",
    "print(\"mean squared error:\", metrics.mean_squared_error(test_y,pre_y))\n",
    "## 输出在测试集上的R^2\n",
    "print(\"在训练集上的R^2:\",mlpr.score(train_x,train_y))\n",
    "print(\"在测试集上的R^2:\",mlpr.score(test_x,test_y))"
   ]
  },
  {
   "cell_type": "code",
   "execution_count": null,
   "id": "5c18b84b",
   "metadata": {},
   "outputs": [],
   "source": [
    "mport csv\n",
    "test_data = pd.read_csv('new2.csv')\n",
    "XX = test_data.drop(['carid', 'price'], axis=1)\n",
    "yy = test_data['carid']\n",
    "pre_y = mlpr.predict(XX)\n",
    "# 结果输出\n",
    "with open('result.csv', 'w', encoding='UTF8') as f:\n",
    "    writer = csv.writer(f)\n",
    "\n",
    "    # write the data\n",
    "    writer.writerow(pre_y)"
   ]
  }
 ],
 "metadata": {
  "kernelspec": {
   "display_name": "Python 3 (ipykernel)",
   "language": "python",
   "name": "python3"
  },
  "language_info": {
   "codemirror_mode": {
    "name": "ipython",
    "version": 3
   },
   "file_extension": ".py",
   "mimetype": "text/x-python",
   "name": "python",
   "nbconvert_exporter": "python",
   "pygments_lexer": "ipython3",
   "version": "3.7.11"
  }
 },
 "nbformat": 4,
 "nbformat_minor": 5
}
